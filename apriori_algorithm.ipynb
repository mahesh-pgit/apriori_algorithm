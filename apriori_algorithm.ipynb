{
 "cells": [
  {
   "cell_type": "code",
   "execution_count": 1,
   "id": "c2b9713f",
   "metadata": {},
   "outputs": [],
   "source": [
    "# Implementing the Apriori Algorithm \n",
    "\n",
    "\n",
    "# Step 1\n",
    "from mlxtend.frequent_patterns import apriori, association_rules\n",
    "import pandas as pd\n",
    "import numpy as np\n"
   ]
  },
  {
   "cell_type": "code",
   "execution_count": 7,
   "id": "f60e253d",
   "metadata": {},
   "outputs": [
    {
     "name": "stdout",
     "output_type": "stream",
     "text": [
      "  InvoiceNo StockCode                                lower  \\\n",
      "0    536365    85123A   white hanging heart t-light holder   \n",
      "1    536365     71053                  white metal lantern   \n",
      "2    536365    84406B       cream cupid hearts coat hanger   \n",
      "3    536365    84029G  knitted union flag hot water bottle   \n",
      "4    536365    84029E       red woolly hottie white heart.   \n",
      "\n",
      "                           Description  Quantity         InvoiceDate  \\\n",
      "0   WHITE HANGING HEART T-LIGHT HOLDER         6 2010-12-01 08:26:00   \n",
      "1                  WHITE METAL LANTERN         6 2010-12-01 08:26:00   \n",
      "2       CREAM CUPID HEARTS COAT HANGER         8 2010-12-01 08:26:00   \n",
      "3  KNITTED UNION FLAG HOT WATER BOTTLE         6 2010-12-01 08:26:00   \n",
      "4       RED WOOLLY HOTTIE WHITE HEART.         6 2010-12-01 08:26:00   \n",
      "\n",
      "   UnitPrice  CustomerID         Country  \n",
      "0       2.55     17850.0  United Kingdom  \n",
      "1       3.39     17850.0  United Kingdom  \n",
      "2       2.75     17850.0  United Kingdom  \n",
      "3       3.39     17850.0  United Kingdom  \n",
      "4       3.39     17850.0  United Kingdom  \n",
      "Index(['InvoiceNo', 'StockCode', 'lower', 'Description', 'Quantity',\n",
      "       'InvoiceDate', 'UnitPrice', 'CustomerID', 'Country'],\n",
      "      dtype='object')\n"
     ]
    }
   ],
   "source": [
    "# Step 2\n",
    "data = pd.read_excel('D:/Edu/Internships/Remarkskill AI/Apriori Algorithm project/Online_Retail.xlsx')\n",
    "print(data.head())\n",
    "\n",
    "# Explore the Columns of the Data Set\n",
    "print(data.columns)\n"
   ]
  },
  {
   "cell_type": "code",
   "execution_count": 8,
   "id": "f384d181",
   "metadata": {},
   "outputs": [],
   "source": [
    "# Step 3: Cleaning the Data\n",
    "# Strip the extra spaces in description \n",
    "data['Description'] = data['Description'].str.strip()\n",
    "\n",
    "# Drop the rows without any invoice number \n",
    "data.dropna(axis=0, subset=['InvoiceNo'], inplace=True)\n",
    "data['InvoiceNo'] = data['InvoiceNo'].astype('str')\n",
    "\n",
    "# Drop all the transactions which were done on credit\n",
    "data = data[~data['InvoiceNo'].str.contains('C')]\n"
   ]
  },
  {
   "cell_type": "code",
   "execution_count": 9,
   "id": "7deb290d",
   "metadata": {},
   "outputs": [],
   "source": [
    "# Step 4: Splitting the Data According to the region of Transaction\n",
    "\n",
    "# Transactions done in France\n",
    "basket_France = (data[data['Country'] == \"France\"].groupby(['InvoiceNo','Description'])['Quantity'].sum().unstack().reset_index().\n",
    "                fillna(0).set_index('InvoiceNo'))\n",
    "\n",
    "# Transactions done in United Kingdom\n",
    "basket_UK = (data[data['Country'] == \"United Kingdom\"].groupby(['InvoiceNo','Description'])['Quantity'].sum().unstack().reset_index().\n",
    "                fillna(0).set_index('InvoiceNo'))\n",
    "\n",
    "# Transactions done in Portugal\n",
    "basket_Por = (data[data['Country'] == \"Portugal\"].groupby(['InvoiceNo','Description'])['Quantity'].sum().unstack().reset_index().\n",
    "                fillna(0).set_index('InvoiceNo'))\n",
    "\n",
    "# Transactions done in Sweden\n",
    "basket_Sweden = (data[data['Country'] == \"Sweden\"].groupby(['InvoiceNo','Description'])['Quantity'].sum().unstack().reset_index().\n",
    "                fillna(0).set_index('InvoiceNo'))\n"
   ]
  },
  {
   "cell_type": "code",
   "execution_count": 10,
   "id": "5b27cad7",
   "metadata": {},
   "outputs": [],
   "source": [
    "# Step 5: Encoding the Data\n",
    "# Defining the hot encoding function to make the data suitable for concerned libraries data processing\n",
    "\n",
    "def hot_encode(x):\n",
    "    if(x<=0):\n",
    "        return 0\n",
    "    if(x>=1):\n",
    "        return 1\n",
    "    \n",
    "# Encoding the Datasets\n",
    "basket_encoded = basket_France.applymap(hot_encode)\n",
    "basket_France = basket_encoded\n",
    "\n",
    "basket_encoded = basket_UK.applymap(hot_encode)\n",
    "basket_UK = basket_encoded\n",
    "\n",
    "basket_encoded = basket_Por.applymap(hot_encode)\n",
    "basket_Por = basket_encoded\n",
    "\n",
    "basket_encoded = basket_Sweden.applymap(hot_encode)\n",
    "basket_Sweden = basket_encoded\n"
   ]
  },
  {
   "cell_type": "code",
   "execution_count": 11,
   "id": "0ac7400c",
   "metadata": {},
   "outputs": [
    {
     "name": "stderr",
     "output_type": "stream",
     "text": [
      "C:\\Users\\hp\\anaconda3\\lib\\site-packages\\mlxtend\\frequent_patterns\\fpcommon.py:111: DeprecationWarning: DataFrames with non-bool types result in worse computationalperformance and their support might be discontinued in the future.Please use a DataFrame with bool type\n",
      "  warnings.warn(\n",
      "C:\\Users\\hp\\anaconda3\\lib\\site-packages\\mlxtend\\frequent_patterns\\fpcommon.py:111: DeprecationWarning: DataFrames with non-bool types result in worse computationalperformance and their support might be discontinued in the future.Please use a DataFrame with bool type\n",
      "  warnings.warn(\n"
     ]
    },
    {
     "name": "stdout",
     "output_type": "stream",
     "text": [
      "                                           antecedents  \\\n",
      "44                        (JUMBO BAG WOODLAND ANIMALS)   \n",
      "258  (RED TOADSTOOL LED NIGHT LIGHT, PLASTERS IN TI...   \n",
      "270  (PLASTERS IN TIN WOODLAND ANIMALS, RED TOADSTO...   \n",
      "302  (SET/6 RED SPOTTY PAPER CUPS, SET/20 RED RETRO...   \n",
      "301  (SET/6 RED SPOTTY PAPER PLATES, SET/20 RED RET...   \n",
      "\n",
      "                         consequents  antecedent support  consequent support  \\\n",
      "44                         (POSTAGE)            0.076531            0.765306   \n",
      "258                        (POSTAGE)            0.051020            0.765306   \n",
      "270                        (POSTAGE)            0.053571            0.765306   \n",
      "302  (SET/6 RED SPOTTY PAPER PLATES)            0.102041            0.127551   \n",
      "301    (SET/6 RED SPOTTY PAPER CUPS)            0.102041            0.137755   \n",
      "\n",
      "      support  confidence      lift  leverage  conviction  \n",
      "44   0.076531       1.000  1.306667  0.017961         inf  \n",
      "258  0.051020       1.000  1.306667  0.011974         inf  \n",
      "270  0.053571       1.000  1.306667  0.012573         inf  \n",
      "302  0.099490       0.975  7.644000  0.086474   34.897959  \n",
      "301  0.099490       0.975  7.077778  0.085433   34.489796  \n",
      "Empty DataFrame\n",
      "Columns: [antecedents, consequents, antecedent support, consequent support, support, confidence, lift, leverage, conviction]\n",
      "Index: []\n"
     ]
    },
    {
     "name": "stderr",
     "output_type": "stream",
     "text": [
      "C:\\Users\\hp\\anaconda3\\lib\\site-packages\\mlxtend\\frequent_patterns\\fpcommon.py:111: DeprecationWarning: DataFrames with non-bool types result in worse computationalperformance and their support might be discontinued in the future.Please use a DataFrame with bool type\n",
      "  warnings.warn(\n"
     ]
    },
    {
     "name": "stdout",
     "output_type": "stream",
     "text": [
      "                              antecedents                         consequents  \\\n",
      "1170     (SET 12 COLOUR PENCILS SPACEBOY)  (SET 12 COLOUR PENCILS DOLLY GIRL)   \n",
      "1171   (SET 12 COLOUR PENCILS DOLLY GIRL)    (SET 12 COLOUR PENCILS SPACEBOY)   \n",
      "1172   (SET OF 4 KNICK KNACK TINS LONDON)  (SET 12 COLOUR PENCILS DOLLY GIRL)   \n",
      "1173   (SET 12 COLOUR PENCILS DOLLY GIRL)  (SET OF 4 KNICK KNACK TINS LONDON)   \n",
      "1174  (SET OF 4 KNICK KNACK TINS POPPIES)  (SET 12 COLOUR PENCILS DOLLY GIRL)   \n",
      "\n",
      "      antecedent support  consequent support   support  confidence       lift  \\\n",
      "1170            0.051724            0.051724  0.051724         1.0  19.333333   \n",
      "1171            0.051724            0.051724  0.051724         1.0  19.333333   \n",
      "1172            0.051724            0.051724  0.051724         1.0  19.333333   \n",
      "1173            0.051724            0.051724  0.051724         1.0  19.333333   \n",
      "1174            0.051724            0.051724  0.051724         1.0  19.333333   \n",
      "\n",
      "      leverage  conviction  \n",
      "1170  0.049049         inf  \n",
      "1171  0.049049         inf  \n",
      "1172  0.049049         inf  \n",
      "1173  0.049049         inf  \n",
      "1174  0.049049         inf  \n"
     ]
    },
    {
     "name": "stderr",
     "output_type": "stream",
     "text": [
      "C:\\Users\\hp\\anaconda3\\lib\\site-packages\\mlxtend\\frequent_patterns\\fpcommon.py:111: DeprecationWarning: DataFrames with non-bool types result in worse computationalperformance and their support might be discontinued in the future.Please use a DataFrame with bool type\n",
      "  warnings.warn(\n"
     ]
    },
    {
     "name": "stdout",
     "output_type": "stream",
     "text": [
      "                           antecedents                     consequents  \\\n",
      "0        (12 PENCILS SMALL TUBE SKULL)   (PACK OF 72 SKULL CAKE CASES)   \n",
      "1        (PACK OF 72 SKULL CAKE CASES)   (12 PENCILS SMALL TUBE SKULL)   \n",
      "4       (ASSORTED BOTTLE TOP  MAGNETS)         (36 DOILIES DOLLY GIRL)   \n",
      "5              (36 DOILIES DOLLY GIRL)  (ASSORTED BOTTLE TOP  MAGNETS)   \n",
      "180  (CHILDRENS CUTLERY CIRCUS PARADE)  (CHILDRENS CUTLERY DOLLY GIRL)   \n",
      "\n",
      "     antecedent support  consequent support   support  confidence  lift  \\\n",
      "0              0.055556            0.055556  0.055556         1.0  18.0   \n",
      "1              0.055556            0.055556  0.055556         1.0  18.0   \n",
      "4              0.055556            0.055556  0.055556         1.0  18.0   \n",
      "5              0.055556            0.055556  0.055556         1.0  18.0   \n",
      "180            0.055556            0.055556  0.055556         1.0  18.0   \n",
      "\n",
      "     leverage  conviction  \n",
      "0    0.052469         inf  \n",
      "1    0.052469         inf  \n",
      "4    0.052469         inf  \n",
      "5    0.052469         inf  \n",
      "180  0.052469         inf  \n"
     ]
    }
   ],
   "source": [
    "# Step 6: Building a model and analyzing the results\n",
    "\n",
    "frq_items = apriori(basket_France, min_support=0.05,use_colnames=True)\n",
    "# Collecting the inferred rules in a DataFrame\n",
    "rules = association_rules(frq_items, metric='lift',min_threshold=1)\n",
    "rules = rules.sort_values(['confidence','lift'],ascending=[False,False])\n",
    "print(rules.head())\n",
    "\n",
    "frq_items = apriori(basket_UK, min_support=0.05,use_colnames=True)\n",
    "# Collecting the inferred rules in a DataFrame\n",
    "rules = association_rules(frq_items, metric='lift',min_threshold=1)\n",
    "rules = rules.sort_values(['confidence','lift'],ascending=[False,False])\n",
    "print(rules.head())\n",
    "\n",
    "frq_items = apriori(basket_Por, min_support=0.05,use_colnames=True)\n",
    "# Collecting the inferred rules in a DataFrame\n",
    "rules = association_rules(frq_items, metric='lift',min_threshold=1)\n",
    "rules = rules.sort_values(['confidence','lift'],ascending=[False,False])\n",
    "print(rules.head())\n",
    "\n",
    "frq_items = apriori(basket_Sweden, min_support=0.05,use_colnames=True)\n",
    "# Collecting the inferred rules in a DataFrame\n",
    "rules = association_rules(frq_items, metric='lift',min_threshold=1)\n",
    "rules = rules.sort_values(['confidence','lift'],ascending=[False,False])\n",
    "print(rules.head())\n"
   ]
  },
  {
   "cell_type": "code",
   "execution_count": null,
   "id": "870506e4",
   "metadata": {},
   "outputs": [],
   "source": [
    "# installation of mlxtend in anaconda prompt\n",
    "# conda install -c conda-forge mlxtend"
   ]
  }
 ],
 "metadata": {
  "kernelspec": {
   "display_name": "Python 3 (ipykernel)",
   "language": "python",
   "name": "python3"
  },
  "language_info": {
   "codemirror_mode": {
    "name": "ipython",
    "version": 3
   },
   "file_extension": ".py",
   "mimetype": "text/x-python",
   "name": "python",
   "nbconvert_exporter": "python",
   "pygments_lexer": "ipython3",
   "version": "3.9.13"
  }
 },
 "nbformat": 4,
 "nbformat_minor": 5
}
